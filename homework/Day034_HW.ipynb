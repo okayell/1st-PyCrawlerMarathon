{
 "cells": [
  {
   "cell_type": "markdown",
   "metadata": {
    "colab_type": "text",
    "id": "I8CoX4R7VoCd"
   },
   "source": [
    "# 反爬：代理伺服器/IP\n",
    "\n",
    "* 了解「IP 黑/白名單」的反爬蟲機制\n",
    "* 「IP 黑/白名單」反爬蟲的因應策略"
   ]
  },
  {
   "cell_type": "markdown",
   "metadata": {
    "colab_type": "text",
    "id": "n-3DZ_r5VoCe"
   },
   "source": [
    "## 作業目標\n",
    "\n",
    "* 目前程式中的 proxy_ips 是手動輸入的，請根據 https://free-proxy-list.net/ 寫一個可自動化抓取可用 Proxy 的 proxy_ips。\n",
    "\n",
    "\n"
   ]
  },
  {
   "cell_type": "code",
   "execution_count": 57,
   "metadata": {},
   "outputs": [],
   "source": [
    "import random\n",
    "import requests\n",
    "from bs4 import BeautifulSoup\n",
    "\n",
    "proxy_ips = []\n",
    "res = requests.get('https://free-proxy-list.net/')\n",
    "soup = BeautifulSoup(res.text, 'lxml')"
   ]
  },
  {
   "cell_type": "code",
   "execution_count": 58,
   "metadata": {
    "colab": {},
    "colab_type": "code",
    "id": "iny-9heBVoCf"
   },
   "outputs": [],
   "source": [
    "proxylisttable = soup.find('table', id='proxylisttable')\n",
    "tbody = proxylisttable.find('tbody')\n",
    "for tr in tbody.find_all('tr'):\n",
    "    proxy_ips.append(tr.find_all('td')[0].text + ':' + tr.find_all('td')[1].text)"
   ]
  },
  {
   "cell_type": "code",
   "execution_count": 59,
   "metadata": {},
   "outputs": [
    {
     "name": "stdout",
     "output_type": "stream",
     "text": [
      "129.205.97.60:53281\n",
      "181.211.162.86:53281\n",
      "120.29.155.59:60004\n",
      "94.74.149.97:80\n",
      "122.102.27.189:23500\n"
     ]
    }
   ],
   "source": [
    "for ip in proxy_ips[:5]:\n",
    "    print(ip)"
   ]
  },
  {
   "cell_type": "code",
   "execution_count": 60,
   "metadata": {
    "colab": {},
    "colab_type": "code",
    "id": "75dIsHjiVoCi"
   },
   "outputs": [
    {
     "name": "stdout",
     "output_type": "stream",
     "text": [
      "Use 62.210.209.94:8118\n",
      "Fail: HTTPConnectionPool(host='62.210.209.94', port=8118): Max retries exceeded with url: http://ip.filefab.com/index.php (Caused by ProxyError('Cannot connect to proxy.', ConnectionResetError(10054, '遠端主機已強制關閉一個現存的連線。', None, 10054, None)))\n",
      "Use 202.182.48.86:57942\n",
      "Your IP address: 202.182.48.86\n",
      "Use 213.14.31.122:54434\n",
      "Your IP address: 213.14.31.122\n",
      "Use 14.207.197.236:3128\n",
      "Your IP address: 14.207.197.236\n",
      "Use 154.79.244.62:58792\n",
      "Fail: HTTPConnectionPool(host='154.79.244.62', port=58792): Max retries exceeded with url: http://ip.filefab.com/index.php (Caused by ConnectTimeoutError(<urllib3.connection.HTTPConnection object at 0x0000022AE51650C8>, 'Connection to 154.79.244.62 timed out. (connect timeout=10)'))\n",
      "Use 91.135.148.198:59384\n",
      "Your IP address: 91.135.148.198\n",
      "Use 125.26.7.85:54888\n",
      "Fail: HTTPConnectionPool(host='125.26.7.85', port=54888): Max retries exceeded with url: http://ip.filefab.com/index.php (Caused by ConnectTimeoutError(<urllib3.connection.HTTPConnection object at 0x0000022AE5D0E048>, 'Connection to 125.26.7.85 timed out. (connect timeout=10)'))\n",
      "Use 79.137.42.28:3128\n",
      "Your IP address: 79.137.42.28\n",
      "Use 220.247.174.236:40768\n",
      "Fail: HTTPConnectionPool(host='220.247.174.236', port=40768): Max retries exceeded with url: http://ip.filefab.com/index.php (Caused by ConnectTimeoutError(<urllib3.connection.HTTPConnection object at 0x0000022AE5496408>, 'Connection to 220.247.174.236 timed out. (connect timeout=10)'))\n",
      "Use 185.204.116.171:3128\n",
      "Your IP address: 185.204.116.171\n"
     ]
    }
   ],
   "source": [
    "for i in range(10):\n",
    "    ip = random.choice(proxy_ips)\n",
    "    print('Use', ip)\n",
    "    try:\n",
    "        resp = requests.get('http://ip.filefab.com/index.php',\n",
    "                        proxies={'http': ip, 'https': ip}, timeout=10)\n",
    "        soup = BeautifulSoup(resp.text, 'html5lib')\n",
    "        print(soup.find('h1', id='ipd').text.strip())\n",
    "    except Exception as e:\n",
    "        print('Fail:', e)"
   ]
  },
  {
   "cell_type": "code",
   "execution_count": null,
   "metadata": {},
   "outputs": [],
   "source": []
  }
 ],
 "metadata": {
  "colab": {
   "name": "homework.ipynb",
   "provenance": []
  },
  "kernelspec": {
   "display_name": "Python 3",
   "language": "python",
   "name": "python3"
  },
  "language_info": {
   "codemirror_mode": {
    "name": "ipython",
    "version": 3
   },
   "file_extension": ".py",
   "mimetype": "text/x-python",
   "name": "python",
   "nbconvert_exporter": "python",
   "pygments_lexer": "ipython3",
   "version": "3.7.4"
  }
 },
 "nbformat": 4,
 "nbformat_minor": 4
}
