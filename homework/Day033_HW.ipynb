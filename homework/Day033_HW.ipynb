{
 "cells": [
  {
   "cell_type": "markdown",
   "metadata": {},
   "source": [
    "# 反爬：登入授權模擬\n",
    "\n",
    "* 了解「登入權限機制」的反爬蟲機制\n",
    "* 「登入權限機制」反爬蟲的因應策略"
   ]
  },
  {
   "cell_type": "markdown",
   "metadata": {},
   "source": [
    "## 作業目標\n",
    "\n",
    "* 找一個需要登入的網站試試看，並說明思考流程\n",
    "（如果不知道要用哪個網站的話，可以試試看 https://github.com/new 網址，未登入時會被導向登入頁）\n",
    "\n"
   ]
  },
  {
   "cell_type": "code",
   "execution_count": 1,
   "metadata": {},
   "outputs": [],
   "source": [
    "import requests\n",
    "from bs4 import BeautifulSoup"
   ]
  },
  {
   "cell_type": "code",
   "execution_count": 3,
   "metadata": {},
   "outputs": [],
   "source": [
    "url = 'https://github.com/new'"
   ]
  },
  {
   "cell_type": "code",
   "execution_count": 7,
   "metadata": {},
   "outputs": [
    {
     "name": "stderr",
     "output_type": "stream",
     "text": [
      "c:\\python27\\lib\\site-packages\\urllib3\\connectionpool.py:1004: InsecureRequestWarning: Unverified HTTPS request is being made. Adding certificate verification is strongly advised. See: https://urllib3.readthedocs.io/en/latest/advanced-usage.html#ssl-warnings\n",
      "  InsecureRequestWarning,\n"
     ]
    },
    {
     "name": "stdout",
     "output_type": "stream",
     "text": [
      "Create a New RepositorySkip to content        Search              All GitHub      ↵      Jump to      ↵No suggested jump to results        Search              All GitHub      ↵      Jump to      ↵        Search              All GitHub      ↵      Jump to      ↵     Pull requests    Issues        Marketplace    Explore   New repository    Import repository    New gist    New organization      New project  Signed in as okayell🏠Working from homeEdit status🏠🏠Could not update your status, please try again.              80 remaining            Suggestions:🌴                          On vacation                        🤒                          Out sick                        🏠                          Working from home                        🎯                          Focusing                                          Busy                                  When others mention you, assign you, or request your review,                  GitHub will let them know that you have limited availability.                    Clear status          Never      NeverKeep this status until you clear your status or edit your status.            in 30 minutes                      in 1 hour                      in 4 hours                      today                      this week                      Set status                      Clear status           Your profileYour repositoriesYour projectsYour starsYour gists    Feature preview  HelpSettings        Sign out       Create a new repository      A repository contains all project files, including the revision history.        Already have a project repository elsewhere? Import a repository.Owner    okayell        okayell    /Repository name        Great repository names are short and memorable. Need inspiration? How about        special-adventure?      Description (optional)          Public                    Anyone can see this repository. You choose who can commit.                  You may not create public repositories by organization policy.                  Private                  You choose who can see and commit to this repository.                  You may not create private repositories by organization policy.                  Due to U.S. trade controls law restrictions, paid GitHub organization services have been restricted.For free organization accounts, you may have access to free GitHub public repository services (such as access to GitHub Pages and public repositories used for open source projects) for personal communications only, and not for commercial purposes. The restriction also includes suspended access to private repository services and paid services (such as availability of private organizational accounts and GitHub Marketplace services).Please read about GitHub and Trade Controls for more information.                  Due to U.S. trade controls law restrictions, your GitHub account has been restricted.This means we have suspended access to private repository services and paid services for your account. For free individual accounts, you still have access to free GitHub public repository services (such as public repositories for open source projects and associated GitHub Pages and Gists).If you believe your account has been flagged in error, and you are not located in or resident in a sanctioned region, please file an appeal.Please read about GitHub and Trade Controls for more information.                  Your current plan does not support private repositories.                          Your organization's owners will need to upgrade to Team.            Skip this step if you’re importing an existing repository.            Initialize this repository with a README                      This will let you immediately clone the repository to your computer.          Add .gitignore:None.gitignoreNone        ActionscriptAdaAgdaAndroidAppEngineAppceleratorTitaniumArchLinuxPackagesAutotoolsCC++CFWheelsCMakeCUDACakePHPChefCookbookClojureCodeIgniterCommonLispComposerConcrete5CoqCraftCMSDDMDartDelphiDrupalEPiServerEagleElispElixirElmErlangExpressionEngineExtJsFancyFinaleForceDotComFortranFuelPHPGWTGitBookGoGodotGradleGrailsHaskellIGORProIdrisJENKINS_HOMEJavaJbossJekyllJoomlaJuliaKiCADKohanaKotlinLabVIEWLaravelLeiningenLemonStandLilypondLithiumLuaMagentoMavenMercuryMetaProgrammingSystemNimNodeOCamlObjective-COpaOracleFormsPackerPerlPerl6PhalconPlayFrameworkPlonePrestashopProcessingPureScriptPythonQooxdooQtRROSRailsRhodesRhomobileRubyRustSConsSassScalaSchemeScrivenerSdccSeamGenSketchUpSmalltalkSugarCRMSwiftSymfonySymphonyCMSTeXTerraformTextpatternTurboGears2Typo3UmbracoUnityUnrealEngineVVVVVisualStudioWafWordPressXojoYeomanYiiZendFrameworkZephirgcovnanocopencartstellaNothing to showAdd a license:NoneLicensesNoneApache License 2.0GNU General Public License v3.0MIT LicenseBSD 2-Clause \"Simplified\" LicenseBSD 3-Clause \"New\" or \"Revised\" LicenseCreative Commons Zero v1.0 UniversalEclipse Public License 2.0GNU Affero General Public License v3.0GNU General Public License v2.0GNU Lesser General Public License v2.1GNU Lesser General Public License v3.0Mozilla Public License 2.0The UnlicenseNothing to show        Create repository              You don’t appear to have permission to create repositories for this organization. Sorry about that.      © 2020 GitHub, Inc.TermsPrivacySecurityStatusHelpContact GitHubPricingAPITrainingBlogAbout    You can’t perform that action at this time.  You signed in with another tab or window. Reload to refresh your session.You signed out in another tab or window. Reload to refresh your session.\n"
     ]
    }
   ],
   "source": [
    "headers = {'User-Agent': 'Mozilla/5.0 (Windows NT 10.0; Win64; x64) AppleWebKit/537.36 (KHTML, like Gecko) Chrome/78.0.3904.87 Safari/537.36'}\n",
    "cookies = {'logged_in':'yes', \n",
    "           'user_session':'78DES7DlOIKdI1uJwkYyrycBYkn7Oaerle_-sNg6ojpag7y3', \n",
    "           'dotcom_user': 'okayell', }\n",
    "res = requests.get(url, headers=headers, cookies=cookies, verify=False) # 忽略SSL驗證\n",
    "soup = BeautifulSoup(res.text, 'lxml') \n",
    "print(soup.text.replace('\\n',''))"
   ]
  }
 ],
 "metadata": {
  "kernelspec": {
   "display_name": "Python 2",
   "language": "python",
   "name": "python2"
  },
  "language_info": {
   "codemirror_mode": {
    "name": "ipython",
    "version": 2
   },
   "file_extension": ".py",
   "mimetype": "text/x-python",
   "name": "python",
   "nbconvert_exporter": "python",
   "pygments_lexer": "ipython2",
   "version": "2.7.16"
  }
 },
 "nbformat": 4,
 "nbformat_minor": 2
}
