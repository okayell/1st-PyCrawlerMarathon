{
 "cells": [
  {
   "cell_type": "markdown",
   "metadata": {},
   "source": [
    "# YAHOO電影爬蟲練習\n",
    "## 練習爬取電影放映資訊。必須逐步獲取電影的代號、放映地區、放映日期後，再送出查詢給伺服器。"
   ]
  },
  {
   "cell_type": "code",
   "execution_count": 15,
   "metadata": {},
   "outputs": [],
   "source": [
    "import requests\n",
    "import re\n",
    "from bs4 import BeautifulSoup"
   ]
  },
  {
   "cell_type": "markdown",
   "metadata": {},
   "source": [
    "### 先搜尋全部的電影代號(ID)資訊"
   ]
  },
  {
   "cell_type": "code",
   "execution_count": 25,
   "metadata": {
    "scrolled": true
   },
   "outputs": [
    {
     "name": "stdout",
     "output_type": "stream",
     "text": [
      "Movie: 復仇母親, ID: 10392\n",
      "Movie: 風暴過後, ID: 10387\n",
      "Movie: 南方車站的聚會, ID: 10380\n",
      "Movie: 祭旗, ID: 10373\n",
      "Movie: 唯你是愛, ID: 10370\n",
      "Movie: 屍控療法, ID: 10367\n",
      "Movie: 黑熊來了, ID: 10357\n",
      "Movie: 唐人街探案2, ID: 10353\n",
      "Movie: 黑計畫, ID: 10351\n",
      "Movie: HUMAN LOST人間失格, ID: 10348\n",
      "Movie: 假面騎士劇場版ZI-O Over Quartzer, ID: 10331\n",
      "Movie: 巴黎小情聖, ID: 10329\n",
      "Movie: 每個月來訪一次的月經醬, ID: 10324\n",
      "Movie: 8級警戒, ID: 10323\n",
      "Movie: 為你存在的每一天, ID: 10297\n",
      "Movie: 黑色聖誕節, ID: 10291\n",
      "Movie: 熱氣球飛行家, ID: 10257\n",
      "Movie: 大說謊家, ID: 10122\n",
      "Movie: 特約經紀公司, ID: 10364\n",
      "Movie: 一屍到底番外篇：好萊塢大作戰！, ID: 10352\n",
      "Movie: 花生醬獵鷹的願望, ID: 10340\n",
      "Movie: 女孩要革命, ID: 10339\n",
      "Movie: 我的靈魂是愛做的, ID: 10336\n",
      "Movie: 絕世情歌, ID: 10328\n",
      "Movie: 人間失格：太宰治與他的3個女人, ID: 10287\n",
      "Movie: 抓狂博物館, ID: 10279\n",
      "Movie: 呆萌特務, ID: 10264\n",
      "Movie: 去年聖誕節, ID: 10256\n",
      "Movie: 野蠻遊戲：全面晉級, ID: 10134\n",
      "Movie: 夕霧花園, ID: 10327\n",
      "Movie: 懸案密碼前傳：瓶中信, ID: 10254\n",
      "Movie: 布魯克林孤兒, ID: 10224\n",
      "Movie: 暴走曼哈頓, ID: 10044\n",
      "Movie: 鋒迴路轉, ID: 10258\n",
      "Movie: 賽道狂人, ID: 10097\n",
      "Movie: 麂皮：永不滿足, ID: 10358\n",
      "Movie: 82年生的金智英, ID: 10298\n",
      "Movie: 冰雪奇緣2, ID: 9597\n",
      "Movie: Hello World, ID: 10302\n",
      "Movie: 大餓, ID: 10296\n",
      "Movie: 我的情敵是冰箱, ID: 10286\n",
      "Movie: 萬萬沒想到, ID: 10281\n",
      "Movie: 為美好的世界獻上祝福！紅傳說, ID: 10226\n",
      "Movie: 山田孝之的痛苦與榮耀, ID: 10301\n",
      "Movie: 決戰中途島, ID: 10130\n",
      "Movie: 安眠醫生, ID: 10098\n",
      "Movie: 地久天長, ID: 9621\n",
      "Movie: 魔鬼終結者：黑暗宿命, ID: 10067\n",
      "Movie: 紫羅蘭永恆花園外傳－永遠與自動手記人偶－, ID: 10292\n",
      "Movie: 陽光普照, ID: 10240\n",
      "Movie: 阿達一族, ID: 9992\n",
      "Movie: 狙擊獵殺：救援行動, ID: 10284\n",
      "Movie: 雙子殺手, ID: 10017\n",
      "Movie: 盲人律師, ID: 10267\n",
      "Movie: 黑魔女2, ID: 10262\n",
      "Movie: 電影版 壞傢伙們, ID: 10249\n",
      "Movie: 藍波：最後一滴血, ID: 10205\n",
      "Movie: 屍樂園：髒比雙拼, ID: 10176\n",
      "Movie: 弒婚遊戲, ID: 10171\n",
      "Movie: 108悍將, ID: 10238\n",
      "Movie: 小丑, ID: 9949\n",
      "Movie: 校外打怪教學, ID: 10200\n",
      "Movie: 信用詐欺師JP, ID: 10190\n",
      "Movie: 無間行動, ID: 10155\n",
      "Movie: 星際救援, ID: 10227\n",
      "Movie: 返校, ID: 10109\n",
      "Movie: 唐頓莊園, ID: 10064\n",
      "Movie: 舞孃騙很大, ID: 10199\n",
      "Movie: 花椒之味, ID: 10158\n",
      "Movie: 好小男孩, ID: 9894\n",
      "Movie: 牠 第二章, ID: 10042\n",
      "Movie: 極限逃生, ID: 10174\n",
      "Movie: 你願意嫁給我老公嗎？, ID: 10141\n",
      "Movie: 下半場, ID: 9807\n",
      "Movie: 全面攻佔3：天使救援, ID: 10082\n",
      "Movie: 普羅米亞, ID: 10119\n",
      "Movie: 朵拉與失落的黃金城, ID: 9920\n",
      "Movie: 獅子王, ID: 9116\n",
      "Movie: 玩具總動員4, ID: 9924\n",
      "Movie: 毀滅者, ID: 9405\n",
      "Movie: 庫爾斯克號：深海救援, ID: 9134\n",
      "Movie: 厄夜追緝令, ID: 9589\n",
      "Movie: 苦兒流浪記, ID: 9538\n",
      "Movie: 活個精彩, ID: 9394\n",
      "Movie: 限時好友, ID: 9578\n",
      "Movie: 祝你忌日快樂, ID: 9568\n",
      "Movie: 艾莉塔：戰鬥天使, ID: 8553\n",
      "Movie: 馴龍高手3, ID: 8350\n",
      "Movie: 幸福綠皮書, ID: 9150\n",
      "Movie: 鬼太鼓座, ID: 8467\n",
      "Movie: 一首搖滾上月球, ID: 4887\n",
      "Movie: 錢不夠用2, ID: 3026\n"
     ]
    }
   ],
   "source": [
    "# 查看目前上映那些電影，並擷取出其ID資訊\n",
    "url = 'https://movies.yahoo.com.tw/'\n",
    "resp = requests.get(url)\n",
    "resp.encoding = 'utf-8'\n",
    "\n",
    "soup = BeautifulSoup(resp.text, 'lxml')\n",
    "html = soup.find(\"select\", attrs={'name':'movie_id'})\n",
    "movie_item = html.find_all(\"option\", attrs={'data-name':re.compile('.*')})\n",
    "\n",
    "for p in movie_item:\n",
    "    print(\"Movie: %s, ID: %s\" % (p[\"data-name\"], p[\"value\"]))"
   ]
  },
  {
   "cell_type": "markdown",
   "metadata": {},
   "source": [
    "### 指定你有興趣的電影其ID，然後查詢其放映地區資訊。"
   ]
  },
  {
   "cell_type": "code",
   "execution_count": 17,
   "metadata": {},
   "outputs": [],
   "source": [
    "# 參考前一個步驟中擷取到的ID資訊，並指定ID\n",
    "movie_id = 10380"
   ]
  },
  {
   "cell_type": "code",
   "execution_count": 18,
   "metadata": {},
   "outputs": [
    {
     "name": "stdout",
     "output_type": "stream",
     "text": [
      "放映地區: 台北市, 代號(area_id): 28\n",
      "放映地區: 桃園, 代號(area_id): 16\n",
      "放映地區: 新竹, 代號(area_id): 20\n",
      "放映地區: 台中, 代號(area_id): 2\n",
      "放映地區: 台南, 代號(area_id): 10\n",
      "放映地區: 高雄, 代號(area_id): 17\n",
      "放映地區: 花蓮, 代號(area_id): 12\n"
     ]
    }
   ],
   "source": [
    "url = 'https://movies.yahoo.com.tw/api/v1/areas_by_movie_theater'\n",
    "payload = {'movie_id':str(movie_id)}\n",
    "\n",
    "# 模擬一個header\n",
    "headers = {\n",
    "    'authority': 'movies.yahoo.com.tw',\n",
    "    'method': 'GET',\n",
    "    'path': '/api/v1/areas_by_movie_theater?movie_id=' + str(movie_id),\n",
    "    'scheme': 'https',\n",
    "    'accept': 'application/json, text/javascript, */*; q=0.01',\n",
    "    'accept-encoding': 'gzip, deflate, br',\n",
    "    'accept-language': 'zh-TW,zh;q=0.9,en-US;q=0.8,en;q=0.7,zh-CN;q=0.6',\n",
    "    'cookie': 'rxx=9s3x2fws06.1g16irnc&v=1; _ga=GA1.3.2056742944.1551651301; GUC=AQEBAQFczFpdm0IfmwSB&s=AQAAACoo4N5D&g=XMsVBw; BX=4hkdk1decm57t&b=3&s=mr; _ga=GA1.4.2056742944.1551651301; nexagesuid=82843256dd234e8e91aa73f2062f8218; browsed_movie=eyJpdiI6IlJXWWtiSWJaZlNGK2MxQnhscnVUYWc9PSIsInZhbHVlIjoiMXRhMmVHRXRIeUNjc1RBWDJzdGYwbnlIQURmWGsrcjJSMzhkbkcraDNJVUNIZEZsbzU3amlFcVZ1NzlmazJrTGpoMjVrbHk1YmpoRENXaHZTOUw1TmI2ZTZVWHdOejZQZm16RmVuMWlHTTJLaTZLVFZZVkFOMDlTd1wvSGltcytJIiwibWFjIjoiZWQ2ZjA4MmVjZmZlYjlmNjJmYmY2NGMyMDI0Njc0NWViYjVkOWE2NDg0N2RhODMxZjBjZDhiMmJhZTc2MDZhYiJ9; avi=eyJpdiI6Im1NeWFJRlVRWDR1endEcGRGUGJUbVE9PSIsInZhbHVlIjoickRpU3JuUytmcGl6cjF5OW0rNU9iZz09IiwibWFjIjoiY2VmY2NkNzZmM2NhNjY5YzlkOTcyNjE5OGEyMzU0NWYxOTdmMDRkMDY3OWNmMmZjOTMxYjc5MjI5N2Q5NGE5MiJ9; cmp=t=1559391030&j=0; _gid=GA1.4.779543841.1559391031; XSRF-TOKEN=eyJpdiI6IkhpS2hGcDRQaHlmWUJmaHdSS2Q2bHc9PSIsInZhbHVlIjoiOUVoNFk4OHI1UUZmUWRtYXhza0MyWjJSTlhlZ3RnT0VGeVJPN2JuczVRMGRFdWt2OUlsamVKeHRobFwvcHBGM0dhU3VyMXNGTHlsb2dVM2l0U1hpUGxBPT0iLCJtYWMiOiJkZWU4YzJhNjAxMTY3MzE4Y2ExNWIxYmE1ZjE1YWZlZTlhOTcyYjc4M2RlZGY4ZWNjZDYyMTA2NGYwZGViMzc2In0%3D; m_s=eyJpdiI6InpsZHZ2Tk1BZ0dxaHhETml1RjBnUXc9PSIsInZhbHVlIjoiSkNGeHUranRoXC85bDFiaDhySTJqNkJRcWdjWUxjeVRJSHVYZ1wvd2d4bWJZUTUrSHVDM0lUcW5KNHdETFZ4T1lieU81OUhzc1VoUXhZcWk0UDZSQXVFdz09IiwibWFjIjoiYmJkMDJkMDhlODIzMzcyMWY4M2NmYWNjNGVlOWRjMDIwZmVmNzAyMjE3Yzg3ZGY3ODBkZWEzZTI4MTI5ZWNmOSJ9; _gat=1; nexagesd=10',\n",
    "    'dnt': '1',\n",
    "    'mv-authorization': '21835b082e15b91a69b3851eec7b31b82ce82afb',\n",
    "    'referer': 'https://movies.yahoo.com.tw/',\n",
    "    'user-agent': 'Mozilla/5.0 (Windows NT 10.0; Win64; x64) AppleWebKit/537.36 (KHTML, like Gecko) Chrome/74.0.3729.169 Safari/537.36',\n",
    "    'x-requested-with': 'XMLHttpRequest',\n",
    "}\n",
    "    \n",
    "resp = requests.get(url, params=payload, headers=headers)\n",
    "#print(resp.json())  # 若有需要，列印出json原始碼\n",
    "\n",
    "# 這裡回傳的格式是JSON格式的資料，要解析JSON擷取資料\n",
    "for p in resp.json():\n",
    "    print('放映地區: {0}, 代號(area_id): {1}'.format(p['title'], p['area_id']))"
   ]
  },
  {
   "cell_type": "markdown",
   "metadata": {},
   "source": [
    "### 指定你想要觀看的放映地區，查詢有上映電影的場次日期"
   ]
  },
  {
   "cell_type": "code",
   "execution_count": 19,
   "metadata": {},
   "outputs": [],
   "source": [
    "# 指定放映地區\n",
    "area_id = 28"
   ]
  },
  {
   "cell_type": "code",
   "execution_count": 20,
   "metadata": {},
   "outputs": [
    {
     "name": "stdout",
     "output_type": "stream",
     "text": [
      "十二月 14\n",
      "十二月 15\n",
      "十二月 16\n",
      "十二月 17\n",
      "十二月 18\n"
     ]
    }
   ],
   "source": [
    "# 向網站發送請求\n",
    "url = 'https://movies.yahoo.com.tw/movietime_result.html'\n",
    "payload = {'movie_id':str(movie_id), 'area_id':str(area_id)}\n",
    "resp = requests.get(url, params=payload)\n",
    "resp.encoding = 'utf-8'\n",
    "\n",
    "soup = BeautifulSoup(resp.text, 'lxml')\n",
    "movie_date = soup.find_all(\"label\", attrs={'for':re.compile(\"date_[\\d]\")})\n",
    "\n",
    "# 列印播放日期\n",
    "for date in movie_date:\n",
    "    print(\"%s %s\" % (date.p.string, date.h3.string))"
   ]
  },
  {
   "cell_type": "markdown",
   "metadata": {},
   "source": [
    "### 最後指定觀看的日期，查詢並列印出放映的電影院、放映類型(數位、3D、IMAX 3D...)、放映時間等資訊。"
   ]
  },
  {
   "cell_type": "code",
   "execution_count": 21,
   "metadata": {},
   "outputs": [],
   "source": [
    "# 選定要觀看的日期\n",
    "date = \"2019-12-15\""
   ]
  },
  {
   "cell_type": "code",
   "execution_count": 26,
   "metadata": {
    "scrolled": true
   },
   "outputs": [
    {
     "name": "stdout",
     "output_type": "stream",
     "text": [
      "[<ul class=\"area_time _c jq_area_time\" data-theater_name=\"台北真善美劇院\" data-theater_schedules=\"https://movies.yahoo.com.tw/theater_result.html/id=41\" data-theater_url=\"\" id=\"theater_id_41\">\n",
      "<li class=\"adds\">\n",
      "<a href=\"https://movies.yahoo.com.tw/theater_result.html/id=41\">台北真善美劇院</a>\n",
      "<span>02-23312270</span>\n",
      "</li>\n",
      "<li class=\"taps\">\n",
      "<span class=\"tapR\">數位</span> <span class=\"tapB\">中文</span> </li>\n",
      "<li class=\"time _c\">\n",
      "<div class=\"input_picker jq_input_picker\">\n",
      "<input class=\"gabtn\" data-cinema=\"f644412efbb811e58858f2128151146f\" data-date=\"1576339200\" data-ezding=\"ezding\" data-ga=\"['電影頁_時刻表', '電影頁_時刻表_場次', '南方車站的聚會']\" data-movie=\"6ea5f3ed2b9e4303905f71b6fe03ee05\" data-movie_date=\"12.15\" data-movie_time=\"12:30\" data-movie_title=\"南方車站的聚會\" data-movie_type=\"數位\" data-session=\"75faf9f146c445afacdfcf7faf30c427\" data-time=\"1576384200\" id=\"72561837\" name=\"schedule_list\" type=\"radio\" value=\"2019-12-15 12:30:00\"/>\n",
      "<label class=\"select\" for=\"72561837\">12:30</label>\n",
      "</div>\n",
      "</li>\n",
      "</ul>, <ul class=\"area_time _c jq_area_time\" data-theater_name=\"台北信義威秀影城\" data-theater_schedules=\"https://movies.yahoo.com.tw/theater_result.html/id=45\" data-theater_url=\"http://www.vscinemas.com.tw/\" id=\"theater_id_45\">\n",
      "<li class=\"adds\">\n",
      "<a href=\"https://movies.yahoo.com.tw/theater_result.html/id=45\">台北信義威秀影城</a>\n",
      "<span>02-87805566</span>\n",
      "</li>\n",
      "<li class=\"taps\">\n",
      "<span class=\"tapR\">數位</span> </li>\n",
      "<li class=\"time _c\">\n",
      "<div class=\"input_picker jq_input_picker\">\n",
      "<input class=\"gabtn\" data-cinema=\"40288eb0050f542401050f554e7e0674\" data-date=\"1576339200\" data-ezding=\"ezding\" data-ga=\"['電影頁_時刻表', '電影頁_時刻表_場次', '南方車站的聚會']\" data-movie=\"a4e6561eaa784b4c9d6c489906207323\" data-movie_date=\"12.15\" data-movie_time=\"09:50\" data-movie_title=\"南方車站的聚會\" data-movie_type=\"數位\" data-session=\"224a07b7424340a98cb863b72912f9e7\" data-time=\"1576374600\" id=\"72571942\" name=\"schedule_list\" type=\"radio\" value=\"2019-12-15 09:50:00\"/>\n",
      "<label class=\"select\" for=\"72571942\">09:50</label>\n",
      "<input class=\"gabtn\" data-cinema=\"40288eb0050f542401050f554e7e0674\" data-date=\"1576339200\" data-ezding=\"ezding\" data-ga=\"['電影頁_時刻表', '電影頁_時刻表_場次', '南方車站的聚會']\" data-movie=\"a4e6561eaa784b4c9d6c489906207323\" data-movie_date=\"12.15\" data-movie_time=\"16:05\" data-movie_title=\"南方車站的聚會\" data-movie_type=\"數位\" data-session=\"58ffa1979ab14e738174f0ebaecb4e77\" data-time=\"1576397100\" id=\"72571943\" name=\"schedule_list\" type=\"radio\" value=\"2019-12-15 16:05:00\"/>\n",
      "<label class=\"select\" for=\"72571943\">16:05</label>\n",
      "<input class=\"gabtn\" data-cinema=\"40288eb0050f542401050f554e7e0674\" data-date=\"1576339200\" data-ezding=\"ezding\" data-ga=\"['電影頁_時刻表', '電影頁_時刻表_場次', '南方車站的聚會']\" data-movie=\"a4e6561eaa784b4c9d6c489906207323\" data-movie_date=\"12.15\" data-movie_time=\"20:25\" data-movie_title=\"南方車站的聚會\" data-movie_type=\"數位\" data-session=\"2d7a3c59da554edfb9b0b80b0f706c52\" data-time=\"1576412700\" id=\"72571944\" name=\"schedule_list\" type=\"radio\" value=\"2019-12-15 20:25:00\"/>\n",
      "<label class=\"select\" for=\"72571944\">20:25</label>\n",
      "<input class=\"gabtn\" data-cinema=\"40288eb0050f542401050f554e7e0674\" data-date=\"1576339200\" data-ezding=\"ezding\" data-ga=\"['電影頁_時刻表', '電影頁_時刻表_場次', '南方車站的聚會']\" data-movie=\"a4e6561eaa784b4c9d6c489906207323\" data-movie_date=\"12.16\" data-movie_time=\"00:45\" data-movie_title=\"南方車站的聚會\" data-movie_type=\"數位\" data-session=\"1dc6e1ae404647cdb425e4200eeaf5f3\" data-time=\"1576428300\" id=\"72571945\" name=\"schedule_list\" type=\"radio\" value=\"2019-12-16 00:45:00\"/>\n",
      "<label class=\"select\" for=\"72571945\">00:45</label>\n",
      "</div>\n",
      "</li>\n",
      "</ul>, <ul class=\"area_time _c jq_area_time\" data-theater_name=\"喜樂時代影城南港店\" data-theater_schedules=\"https://movies.yahoo.com.tw/theater_result.html/id=186\" data-theater_url=\"http://www.centuryasia.com.tw/default.aspx\" id=\"theater_id_186\">\n",
      "<li class=\"adds\">\n",
      "<a href=\"https://movies.yahoo.com.tw/theater_result.html/id=186\">喜樂時代影城南港店</a>\n",
      "<span>02-27888185</span>\n",
      "</li>\n",
      "<li class=\"taps\">\n",
      "<span class=\"tapR\">數位</span> <span class=\"tapB\">中文</span> </li>\n",
      "<li class=\"time _c\">\n",
      "<div class=\"input_picker jq_input_picker\">\n",
      "<input class=\"gabtn\" data-cinema=\"40288eb0050f542401050f5681782dc5\" data-date=\"1576339200\" data-ezding=\"ezding\" data-ga=\"['電影頁_時刻表', '電影頁_時刻表_場次', '南方車站的聚會']\" data-movie=\"4098b505b10645fe83bbde55791698f2\" data-movie_date=\"12.15\" data-movie_time=\"10:15\" data-movie_title=\"南方車站的聚會\" data-movie_type=\"數位\" data-session=\"b8ab1bcaca8a46c190859b63fd9ba932\" data-time=\"1576376100\" id=\"72576826\" name=\"schedule_list\" type=\"radio\" value=\"2019-12-15 10:15:00\"/>\n",
      "<label class=\"select\" for=\"72576826\">10:15</label>\n",
      "<input class=\"gabtn\" data-cinema=\"40288eb0050f542401050f5681782dc5\" data-date=\"1576339200\" data-ezding=\"ezding\" data-ga=\"['電影頁_時刻表', '電影頁_時刻表_場次', '南方車站的聚會']\" data-movie=\"4098b505b10645fe83bbde55791698f2\" data-movie_date=\"12.15\" data-movie_time=\"12:20\" data-movie_title=\"南方車站的聚會\" data-movie_type=\"數位\" data-session=\"d512521fd40c4e2b95b2f68409280cd5\" data-time=\"1576383600\" id=\"72576827\" name=\"schedule_list\" type=\"radio\" value=\"2019-12-15 12:20:00\"/>\n",
      "<label class=\"select\" for=\"72576827\">12:20</label>\n",
      "<input class=\"gabtn\" data-cinema=\"40288eb0050f542401050f5681782dc5\" data-date=\"1576339200\" data-ezding=\"ezding\" data-ga=\"['電影頁_時刻表', '電影頁_時刻表_場次', '南方車站的聚會']\" data-movie=\"4098b505b10645fe83bbde55791698f2\" data-movie_date=\"12.15\" data-movie_time=\"14:30\" data-movie_title=\"南方車站的聚會\" data-movie_type=\"數位\" data-session=\"7b09231a74124ae48f671f3ed9bf90fc\" data-time=\"1576391400\" id=\"72576828\" name=\"schedule_list\" type=\"radio\" value=\"2019-12-15 14:30:00\"/>\n",
      "<label class=\"select\" for=\"72576828\">14:30</label>\n",
      "<input class=\"gabtn\" data-cinema=\"40288eb0050f542401050f5681782dc5\" data-date=\"1576339200\" data-ezding=\"ezding\" data-ga=\"['電影頁_時刻表', '電影頁_時刻表_場次', '南方車站的聚會']\" data-movie=\"4098b505b10645fe83bbde55791698f2\" data-movie_date=\"12.15\" data-movie_time=\"18:50\" data-movie_title=\"南方車站的聚會\" data-movie_type=\"數位\" data-session=\"60f66dcba3bf42508bf92d9a2839c752\" data-time=\"1576407000\" id=\"72576829\" name=\"schedule_list\" type=\"radio\" value=\"2019-12-15 18:50:00\"/>\n",
      "<label class=\"select\" for=\"72576829\">18:50</label>\n",
      "<input class=\"gabtn\" data-cinema=\"40288eb0050f542401050f5681782dc5\" data-date=\"1576339200\" data-ezding=\"ezding\" data-ga=\"['電影頁_時刻表', '電影頁_時刻表_場次', '南方車站的聚會']\" data-movie=\"4098b505b10645fe83bbde55791698f2\" data-movie_date=\"12.15\" data-movie_time=\"20:55\" data-movie_title=\"南方車站的聚會\" data-movie_type=\"數位\" data-session=\"f15150d0cb7a4c879331150011e6d016\" data-time=\"1576414500\" id=\"72576830\" name=\"schedule_list\" type=\"radio\" value=\"2019-12-15 20:55:00\"/>\n",
      "<label class=\"select\" for=\"72576830\">20:55</label>\n",
      "<input class=\"gabtn\" data-cinema=\"40288eb0050f542401050f5681782dc5\" data-date=\"1576339200\" data-ezding=\"ezding\" data-ga=\"['電影頁_時刻表', '電影頁_時刻表_場次', '南方車站的聚會']\" data-movie=\"4098b505b10645fe83bbde55791698f2\" data-movie_date=\"12.15\" data-movie_time=\"23:00\" data-movie_title=\"南方車站的聚會\" data-movie_type=\"數位\" data-session=\"15ecab2de4a0417ab6c85dd608fac9f3\" data-time=\"1576422000\" id=\"72576831\" name=\"schedule_list\" type=\"radio\" value=\"2019-12-15 23:00:00\"/>\n",
      "<label class=\"select\" for=\"72576831\">23:00</label>\n",
      "</div>\n",
      "</li>\n",
      "</ul>]\n"
     ]
    }
   ],
   "source": [
    "# 向網站發送請求，獲取上映的電影院及時間資訊\n",
    "url = \"https://movies.yahoo.com.tw/ajax/pc/get_schedule_by_movie\"\n",
    "payload = {'movie_id':str(movie_id),\n",
    "           'date':date,\n",
    "           'area_id':str(area_id),\n",
    "           'theater_id':'',\n",
    "           'datetime':'',\n",
    "           'movie_type_id':''}\n",
    "\n",
    "resp = requests.get(url, params=payload)\n",
    "# print(resp.json()['view'])  # 若有需要，列印出json原始碼\n",
    "\n",
    "soup = BeautifulSoup(resp.json()['view'], 'lxml')\n",
    "html = soup.find_all(\"ul\", attrs={'data-theater_name':re.compile(\".*\")})\n",
    "print(html)"
   ]
  },
  {
   "cell_type": "code",
   "execution_count": 49,
   "metadata": {},
   "outputs": [
    {
     "name": "stdout",
     "output_type": "stream",
     "text": [
      "電影院: 台北真善美劇院\n",
      "類型: 數位\n",
      "語言: 中文\n",
      "日期時間:\n",
      "\t 2019-12-15 12:30:00\n",
      "電影院: 台北信義威秀影城\n",
      "類型: 數位\n",
      "語言: Unknown\n",
      "日期時間:\n",
      "\t 2019-12-15 09:50:00\n",
      "\t 2019-12-15 16:05:00\n",
      "\t 2019-12-15 20:25:00\n",
      "\t 2019-12-16 00:45:00\n",
      "電影院: 喜樂時代影城南港店\n",
      "類型: 數位\n",
      "語言: 中文\n",
      "日期時間:\n",
      "\t 2019-12-15 10:15:00\n",
      "\t 2019-12-15 12:20:00\n",
      "\t 2019-12-15 14:30:00\n",
      "\t 2019-12-15 18:50:00\n",
      "\t 2019-12-15 20:55:00\n",
      "\t 2019-12-15 23:00:00\n"
     ]
    }
   ],
   "source": [
    "for i in html:\n",
    "    print(\"電影院: {}\".format(i['data-theater_name']))\n",
    "    movie_info = i.find_all(\"li\", attrs={\"class\":\"taps\"})\n",
    "    for j in movie_info:\n",
    "        info = j.find_all('span')\n",
    "        print(\"類型: {}\".format(info[0].string))\n",
    "        try:\n",
    "            print(\"語言: {}\".format(info[1].string))\n",
    "        except:\n",
    "            print(\"語言: {}\".format('Unknown'))\n",
    "    movie_time = i.find_all(\"input\")\n",
    "    print('日期時間:')\n",
    "    for time in movie_time:\n",
    "        print('\\t', time['value'])    \n",
    "       \n"
   ]
  }
 ],
 "metadata": {
  "kernelspec": {
   "display_name": "Python 3",
   "language": "python",
   "name": "python3"
  },
  "language_info": {
   "codemirror_mode": {
    "name": "ipython",
    "version": 3
   },
   "file_extension": ".py",
   "mimetype": "text/x-python",
   "name": "python",
   "nbconvert_exporter": "python",
   "pygments_lexer": "ipython3",
   "version": "3.7.4"
  }
 },
 "nbformat": 4,
 "nbformat_minor": 4
}
